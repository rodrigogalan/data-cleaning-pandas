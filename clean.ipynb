{
 "cells": [
  {
   "cell_type": "markdown",
   "id": "da2f170d",
   "metadata": {},
   "source": [
    "Se importan los paquetes necesarios"
   ]
  },
  {
   "cell_type": "code",
   "execution_count": 1,
   "id": "3a85bbc0",
   "metadata": {},
   "outputs": [],
   "source": [
    "import numpy as np\n",
    "import pandas as pd\n",
    "import re"
   ]
  },
  {
   "cell_type": "code",
   "execution_count": 2,
   "id": "333385f9",
   "metadata": {},
   "outputs": [],
   "source": [
    "import sys\n",
    "from src.cleaning_functions import *"
   ]
  },
  {
   "cell_type": "markdown",
   "id": "2671ff3a",
   "metadata": {},
   "source": [
    "Se importan los datos como pandas DataFrame"
   ]
  },
  {
   "cell_type": "code",
   "execution_count": 3,
   "id": "0e2fd1ee",
   "metadata": {
    "scrolled": true
   },
   "outputs": [],
   "source": [
    "sharks = pd.read_csv(\"data/attacks.csv\",encoding = \"ISO-8859-1\")"
   ]
  },
  {
   "cell_type": "markdown",
   "id": "cbe64e6c",
   "metadata": {},
   "source": [
    "Se exploran los datos"
   ]
  },
  {
   "cell_type": "code",
   "execution_count": 4,
   "id": "bc38f4b4",
   "metadata": {},
   "outputs": [
    {
     "data": {
      "text/plain": [
       "(25723, 24)"
      ]
     },
     "execution_count": 4,
     "metadata": {},
     "output_type": "execute_result"
    }
   ],
   "source": [
    "sharks.shape"
   ]
  },
  {
   "cell_type": "code",
   "execution_count": 5,
   "id": "51f18590",
   "metadata": {},
   "outputs": [
    {
     "data": {
      "text/html": [
       "<div>\n",
       "<style scoped>\n",
       "    .dataframe tbody tr th:only-of-type {\n",
       "        vertical-align: middle;\n",
       "    }\n",
       "\n",
       "    .dataframe tbody tr th {\n",
       "        vertical-align: top;\n",
       "    }\n",
       "\n",
       "    .dataframe thead th {\n",
       "        text-align: right;\n",
       "    }\n",
       "</style>\n",
       "<table border=\"1\" class=\"dataframe\">\n",
       "  <thead>\n",
       "    <tr style=\"text-align: right;\">\n",
       "      <th></th>\n",
       "      <th>Case Number</th>\n",
       "      <th>Date</th>\n",
       "      <th>Year</th>\n",
       "      <th>Type</th>\n",
       "      <th>Country</th>\n",
       "      <th>Area</th>\n",
       "      <th>Location</th>\n",
       "      <th>Activity</th>\n",
       "      <th>Name</th>\n",
       "      <th>Sex</th>\n",
       "      <th>...</th>\n",
       "      <th>Species</th>\n",
       "      <th>Investigator or Source</th>\n",
       "      <th>pdf</th>\n",
       "      <th>href formula</th>\n",
       "      <th>href</th>\n",
       "      <th>Case Number.1</th>\n",
       "      <th>Case Number.2</th>\n",
       "      <th>original order</th>\n",
       "      <th>Unnamed: 22</th>\n",
       "      <th>Unnamed: 23</th>\n",
       "    </tr>\n",
       "  </thead>\n",
       "  <tbody>\n",
       "    <tr>\n",
       "      <th>1952</th>\n",
       "      <td>2001.04.28</td>\n",
       "      <td>28-Apr-2001</td>\n",
       "      <td>2001.0</td>\n",
       "      <td>Unprovoked</td>\n",
       "      <td>USA</td>\n",
       "      <td>Florida</td>\n",
       "      <td>New Smyrna Beach, Volusia County</td>\n",
       "      <td>Boogie boarding</td>\n",
       "      <td>male</td>\n",
       "      <td>M</td>\n",
       "      <td>...</td>\n",
       "      <td>NaN</td>\n",
       "      <td>S. Petersohn, GSAF</td>\n",
       "      <td>2001.04.28-NV-NewSmyrnaBeach.pdf</td>\n",
       "      <td>http://sharkattackfile.net/spreadsheets/pdf_di...</td>\n",
       "      <td>http://sharkattackfile.net/spreadsheets/pdf_di...</td>\n",
       "      <td>2001.04.28</td>\n",
       "      <td>2001.04.28</td>\n",
       "      <td>4351.0</td>\n",
       "      <td>NaN</td>\n",
       "      <td>NaN</td>\n",
       "    </tr>\n",
       "  </tbody>\n",
       "</table>\n",
       "<p>1 rows × 24 columns</p>\n",
       "</div>"
      ],
      "text/plain": [
       "     Case Number         Date    Year        Type Country     Area  \\\n",
       "1952  2001.04.28  28-Apr-2001  2001.0  Unprovoked     USA  Florida   \n",
       "\n",
       "                              Location         Activity  Name Sex   ...  \\\n",
       "1952  New Smyrna Beach, Volusia County  Boogie boarding  male    M  ...   \n",
       "\n",
       "     Species  Investigator or Source                               pdf  \\\n",
       "1952      NaN     S. Petersohn, GSAF  2001.04.28-NV-NewSmyrnaBeach.pdf   \n",
       "\n",
       "                                           href formula  \\\n",
       "1952  http://sharkattackfile.net/spreadsheets/pdf_di...   \n",
       "\n",
       "                                                   href Case Number.1  \\\n",
       "1952  http://sharkattackfile.net/spreadsheets/pdf_di...    2001.04.28   \n",
       "\n",
       "     Case Number.2 original order Unnamed: 22 Unnamed: 23  \n",
       "1952    2001.04.28         4351.0         NaN         NaN  \n",
       "\n",
       "[1 rows x 24 columns]"
      ]
     },
     "execution_count": 5,
     "metadata": {},
     "output_type": "execute_result"
    }
   ],
   "source": [
    "sharks.sample()"
   ]
  },
  {
   "cell_type": "code",
   "execution_count": 6,
   "id": "73758a5f",
   "metadata": {},
   "outputs": [
    {
     "data": {
      "text/plain": [
       "Case Number               17021\n",
       "Date                      19421\n",
       "Year                      19423\n",
       "Type                      19425\n",
       "Country                   19471\n",
       "Area                      19876\n",
       "Location                  19961\n",
       "Activity                  19965\n",
       "Name                      19631\n",
       "Sex                       19986\n",
       "Age                       22252\n",
       "Injury                    19449\n",
       "Fatal (Y/N)               19960\n",
       "Time                      22775\n",
       "Species                   22259\n",
       "Investigator or Source    19438\n",
       "pdf                       19421\n",
       "href formula              19422\n",
       "href                      19421\n",
       "Case Number.1             19421\n",
       "Case Number.2             19421\n",
       "original order            19414\n",
       "Unnamed: 22               25722\n",
       "Unnamed: 23               25721\n",
       "dtype: int64"
      ]
     },
     "execution_count": 6,
     "metadata": {},
     "output_type": "execute_result"
    }
   ],
   "source": [
    "sharks.isna().sum()"
   ]
  },
  {
   "cell_type": "markdown",
   "id": "10a69333",
   "metadata": {},
   "source": [
    "Se comprueba que es un DataFrame muy sucio con una gran cantidad de nulos"
   ]
  },
  {
   "cell_type": "markdown",
   "id": "5cde3f87",
   "metadata": {},
   "source": [
    "Se cambia el nombre de todas las columnas del DataFrame para simplificar"
   ]
  },
  {
   "cell_type": "code",
   "execution_count": 7,
   "id": "dd7773db",
   "metadata": {},
   "outputs": [],
   "source": [
    "nuevas_columna = {columna:(columna.replace(\" \", \"_\").replace(\".\", \"_\").lower() if columna[-1]!=\" \"\n",
    "                  else columna.replace(\" \", \"_\").replace(\".\", \"_\").lower()[:-1]) for columna in list(sharks.keys())}\n",
    "sharks.rename(columns=nuevas_columna, inplace=True)"
   ]
  },
  {
   "cell_type": "code",
   "execution_count": 8,
   "id": "3b9f8318",
   "metadata": {
    "scrolled": true
   },
   "outputs": [
    {
     "data": {
      "text/html": [
       "<div>\n",
       "<style scoped>\n",
       "    .dataframe tbody tr th:only-of-type {\n",
       "        vertical-align: middle;\n",
       "    }\n",
       "\n",
       "    .dataframe tbody tr th {\n",
       "        vertical-align: top;\n",
       "    }\n",
       "\n",
       "    .dataframe thead th {\n",
       "        text-align: right;\n",
       "    }\n",
       "</style>\n",
       "<table border=\"1\" class=\"dataframe\">\n",
       "  <thead>\n",
       "    <tr style=\"text-align: right;\">\n",
       "      <th></th>\n",
       "      <th>case_number</th>\n",
       "      <th>date</th>\n",
       "      <th>year</th>\n",
       "      <th>type</th>\n",
       "      <th>country</th>\n",
       "      <th>area</th>\n",
       "      <th>location</th>\n",
       "      <th>activity</th>\n",
       "      <th>name</th>\n",
       "      <th>sex</th>\n",
       "      <th>...</th>\n",
       "      <th>species</th>\n",
       "      <th>investigator_or_source</th>\n",
       "      <th>pdf</th>\n",
       "      <th>href_formula</th>\n",
       "      <th>href</th>\n",
       "      <th>case_number_1</th>\n",
       "      <th>case_number_2</th>\n",
       "      <th>original_order</th>\n",
       "      <th>unnamed:_22</th>\n",
       "      <th>unnamed:_23</th>\n",
       "    </tr>\n",
       "  </thead>\n",
       "  <tbody>\n",
       "    <tr>\n",
       "      <th>23157</th>\n",
       "      <td>NaN</td>\n",
       "      <td>NaN</td>\n",
       "      <td>NaN</td>\n",
       "      <td>NaN</td>\n",
       "      <td>NaN</td>\n",
       "      <td>NaN</td>\n",
       "      <td>NaN</td>\n",
       "      <td>NaN</td>\n",
       "      <td>NaN</td>\n",
       "      <td>NaN</td>\n",
       "      <td>...</td>\n",
       "      <td>NaN</td>\n",
       "      <td>NaN</td>\n",
       "      <td>NaN</td>\n",
       "      <td>NaN</td>\n",
       "      <td>NaN</td>\n",
       "      <td>NaN</td>\n",
       "      <td>NaN</td>\n",
       "      <td>NaN</td>\n",
       "      <td>NaN</td>\n",
       "      <td>NaN</td>\n",
       "    </tr>\n",
       "  </tbody>\n",
       "</table>\n",
       "<p>1 rows × 24 columns</p>\n",
       "</div>"
      ],
      "text/plain": [
       "      case_number date  year type country area location activity name  sex  \\\n",
       "23157         NaN  NaN   NaN  NaN     NaN  NaN      NaN      NaN  NaN  NaN   \n",
       "\n",
       "       ... species investigator_or_source  pdf href_formula href  \\\n",
       "23157  ...     NaN                    NaN  NaN          NaN  NaN   \n",
       "\n",
       "      case_number_1 case_number_2 original_order unnamed:_22 unnamed:_23  \n",
       "23157           NaN           NaN            NaN         NaN         NaN  \n",
       "\n",
       "[1 rows x 24 columns]"
      ]
     },
     "execution_count": 8,
     "metadata": {},
     "output_type": "execute_result"
    }
   ],
   "source": [
    "sharks.sample()"
   ]
  },
  {
   "cell_type": "markdown",
   "id": "a5ce9adb",
   "metadata": {},
   "source": [
    "Ahora se va a proceder a la limpieza de los datos."
   ]
  },
  {
   "cell_type": "markdown",
   "id": "59c9cfaa",
   "metadata": {},
   "source": [
    "Lo primero es eliminar todas las filas con datos repetidos"
   ]
  },
  {
   "cell_type": "code",
   "execution_count": 9,
   "id": "45bc5c57",
   "metadata": {},
   "outputs": [],
   "source": [
    "sharks.drop_duplicates(inplace=True)"
   ]
  },
  {
   "cell_type": "markdown",
   "id": "978f4f7e",
   "metadata": {},
   "source": [
    "A continuación se van a eliminar todas aquellas filas donde todas las celdas sean nulos y todas las columnas donde todos los valores sean nulos"
   ]
  },
  {
   "cell_type": "code",
   "execution_count": 10,
   "id": "0019b410",
   "metadata": {},
   "outputs": [],
   "source": [
    "sharks.dropna(axis=0, how='all', inplace=True)\n",
    "sharks.dropna(axis=1, how='all', inplace=True)"
   ]
  },
  {
   "cell_type": "code",
   "execution_count": 11,
   "id": "fde01be2",
   "metadata": {
    "scrolled": true
   },
   "outputs": [
    {
     "data": {
      "text/plain": [
       "(6311, 24)"
      ]
     },
     "execution_count": 11,
     "metadata": {},
     "output_type": "execute_result"
    }
   ],
   "source": [
    "sharks.shape"
   ]
  },
  {
   "cell_type": "markdown",
   "id": "08a7a1d0",
   "metadata": {},
   "source": [
    "Con este proceso se han limpiado bastantes filas."
   ]
  },
  {
   "cell_type": "code",
   "execution_count": 12,
   "id": "107c29b3",
   "metadata": {
    "scrolled": true
   },
   "outputs": [
    {
     "data": {
      "text/plain": [
       "case_number               0\n",
       "date                      8\n",
       "year                      8\n",
       "type                      8\n",
       "country                   8\n",
       "area                      8\n",
       "location                  8\n",
       "activity                  8\n",
       "name                      8\n",
       "sex                       8\n",
       "age                       8\n",
       "injury                    8\n",
       "fatal_(y/n)               8\n",
       "time                      8\n",
       "species                   8\n",
       "investigator_or_source    8\n",
       "pdf                       8\n",
       "href_formula              8\n",
       "href                      8\n",
       "case_number_1             8\n",
       "case_number_2             8\n",
       "original_order            1\n",
       "unnamed:_22               8\n",
       "unnamed:_23               8\n",
       "dtype: int64"
      ]
     },
     "execution_count": 12,
     "metadata": {},
     "output_type": "execute_result"
    }
   ],
   "source": [
    "sharks[(sharks[\"case_number\"]==\"0\")].isna().sum()"
   ]
  },
  {
   "cell_type": "markdown",
   "id": "b1b2f100",
   "metadata": {},
   "source": [
    "Se comprueba que en aquellas columnas donde \"case_number\" es nulo, todo el resto de columnas salvo \"original__order\" son nulas también, por lo que no aportan información útil y se van a eliminar."
   ]
  },
  {
   "cell_type": "code",
   "execution_count": 13,
   "id": "b2e4f93c",
   "metadata": {
    "scrolled": true
   },
   "outputs": [],
   "source": [
    "sharks.drop(sharks[(sharks[\"case_number\"]==\"0\")].index,inplace= True)"
   ]
  },
  {
   "cell_type": "markdown",
   "id": "c1282e08",
   "metadata": {},
   "source": [
    "Viendo la información del DF se ve que en las columnas \"unnamed:_22\" y \"unnamed:_23\" casi todos los valores son NaN. Se va a verificar cuales son aquellos valores no nulos y posteriormente eliminar las columnas completas"
   ]
  },
  {
   "cell_type": "code",
   "execution_count": 14,
   "id": "96e08a72",
   "metadata": {},
   "outputs": [
    {
     "data": {
      "text/plain": [
       "(1, 24)"
      ]
     },
     "execution_count": 14,
     "metadata": {},
     "output_type": "execute_result"
    }
   ],
   "source": [
    "sharks[sharks[\"unnamed:_22\"].notna()].shape"
   ]
  },
  {
   "cell_type": "code",
   "execution_count": 15,
   "id": "e1443f48",
   "metadata": {},
   "outputs": [
    {
     "data": {
      "text/html": [
       "<div>\n",
       "<style scoped>\n",
       "    .dataframe tbody tr th:only-of-type {\n",
       "        vertical-align: middle;\n",
       "    }\n",
       "\n",
       "    .dataframe tbody tr th {\n",
       "        vertical-align: top;\n",
       "    }\n",
       "\n",
       "    .dataframe thead th {\n",
       "        text-align: right;\n",
       "    }\n",
       "</style>\n",
       "<table border=\"1\" class=\"dataframe\">\n",
       "  <thead>\n",
       "    <tr style=\"text-align: right;\">\n",
       "      <th></th>\n",
       "      <th>case_number</th>\n",
       "      <th>date</th>\n",
       "      <th>year</th>\n",
       "      <th>type</th>\n",
       "      <th>country</th>\n",
       "      <th>area</th>\n",
       "      <th>location</th>\n",
       "      <th>activity</th>\n",
       "      <th>name</th>\n",
       "      <th>sex</th>\n",
       "      <th>...</th>\n",
       "      <th>species</th>\n",
       "      <th>investigator_or_source</th>\n",
       "      <th>pdf</th>\n",
       "      <th>href_formula</th>\n",
       "      <th>href</th>\n",
       "      <th>case_number_1</th>\n",
       "      <th>case_number_2</th>\n",
       "      <th>original_order</th>\n",
       "      <th>unnamed:_22</th>\n",
       "      <th>unnamed:_23</th>\n",
       "    </tr>\n",
       "  </thead>\n",
       "  <tbody>\n",
       "    <tr>\n",
       "      <th>1478</th>\n",
       "      <td>2006.05.27</td>\n",
       "      <td>27-May-2006</td>\n",
       "      <td>2006.0</td>\n",
       "      <td>Unprovoked</td>\n",
       "      <td>USA</td>\n",
       "      <td>Hawaii</td>\n",
       "      <td>North Shore, O'ahu</td>\n",
       "      <td>Surfing</td>\n",
       "      <td>Bret Desmond</td>\n",
       "      <td>M</td>\n",
       "      <td>...</td>\n",
       "      <td>NaN</td>\n",
       "      <td>R. Collier</td>\n",
       "      <td>2006.05.27-Desmond.pdf</td>\n",
       "      <td>http://sharkattackfile.net/spreadsheets/pdf_di...</td>\n",
       "      <td>http://sharkattackfile.net/spreadsheets/pdf_di...</td>\n",
       "      <td>2006.05.27</td>\n",
       "      <td>2006.05.27</td>\n",
       "      <td>4825.0</td>\n",
       "      <td>stopped here</td>\n",
       "      <td>NaN</td>\n",
       "    </tr>\n",
       "  </tbody>\n",
       "</table>\n",
       "<p>1 rows × 24 columns</p>\n",
       "</div>"
      ],
      "text/plain": [
       "     case_number         date    year        type country    area  \\\n",
       "1478  2006.05.27  27-May-2006  2006.0  Unprovoked     USA  Hawaii   \n",
       "\n",
       "                location activity          name sex  ... species  \\\n",
       "1478  North Shore, O'ahu  Surfing  Bret Desmond   M  ...     NaN   \n",
       "\n",
       "     investigator_or_source                     pdf  \\\n",
       "1478             R. Collier  2006.05.27-Desmond.pdf   \n",
       "\n",
       "                                           href_formula  \\\n",
       "1478  http://sharkattackfile.net/spreadsheets/pdf_di...   \n",
       "\n",
       "                                                   href case_number_1  \\\n",
       "1478  http://sharkattackfile.net/spreadsheets/pdf_di...    2006.05.27   \n",
       "\n",
       "     case_number_2 original_order   unnamed:_22 unnamed:_23  \n",
       "1478    2006.05.27         4825.0  stopped here         NaN  \n",
       "\n",
       "[1 rows x 24 columns]"
      ]
     },
     "execution_count": 15,
     "metadata": {},
     "output_type": "execute_result"
    }
   ],
   "source": [
    "sharks[sharks[\"unnamed:_22\"].notna()].head()"
   ]
  },
  {
   "cell_type": "code",
   "execution_count": 16,
   "id": "4b48de47",
   "metadata": {},
   "outputs": [
    {
     "data": {
      "text/plain": [
       "(2, 24)"
      ]
     },
     "execution_count": 16,
     "metadata": {},
     "output_type": "execute_result"
    }
   ],
   "source": [
    "sharks[sharks[\"unnamed:_23\"].notna()].shape"
   ]
  },
  {
   "cell_type": "code",
   "execution_count": 17,
   "id": "aa60116f",
   "metadata": {},
   "outputs": [
    {
     "data": {
      "text/html": [
       "<div>\n",
       "<style scoped>\n",
       "    .dataframe tbody tr th:only-of-type {\n",
       "        vertical-align: middle;\n",
       "    }\n",
       "\n",
       "    .dataframe tbody tr th {\n",
       "        vertical-align: top;\n",
       "    }\n",
       "\n",
       "    .dataframe thead th {\n",
       "        text-align: right;\n",
       "    }\n",
       "</style>\n",
       "<table border=\"1\" class=\"dataframe\">\n",
       "  <thead>\n",
       "    <tr style=\"text-align: right;\">\n",
       "      <th></th>\n",
       "      <th>case_number</th>\n",
       "      <th>date</th>\n",
       "      <th>year</th>\n",
       "      <th>type</th>\n",
       "      <th>country</th>\n",
       "      <th>area</th>\n",
       "      <th>location</th>\n",
       "      <th>activity</th>\n",
       "      <th>name</th>\n",
       "      <th>sex</th>\n",
       "      <th>...</th>\n",
       "      <th>species</th>\n",
       "      <th>investigator_or_source</th>\n",
       "      <th>pdf</th>\n",
       "      <th>href_formula</th>\n",
       "      <th>href</th>\n",
       "      <th>case_number_1</th>\n",
       "      <th>case_number_2</th>\n",
       "      <th>original_order</th>\n",
       "      <th>unnamed:_22</th>\n",
       "      <th>unnamed:_23</th>\n",
       "    </tr>\n",
       "  </thead>\n",
       "  <tbody>\n",
       "    <tr>\n",
       "      <th>4415</th>\n",
       "      <td>1952.03.30</td>\n",
       "      <td>30-Mar-1952</td>\n",
       "      <td>1952.0</td>\n",
       "      <td>Unprovoked</td>\n",
       "      <td>NETHERLANDS ANTILLES</td>\n",
       "      <td>Curacao</td>\n",
       "      <td>NaN</td>\n",
       "      <td>Went to aid of child being menaced by the shark</td>\n",
       "      <td>A.J. Eggink</td>\n",
       "      <td>M</td>\n",
       "      <td>...</td>\n",
       "      <td>Bull shark, 2.7 m [9'] was captured &amp; dragged ...</td>\n",
       "      <td>J. Randall, p.352 in Sharks &amp; Survival; H.D. B...</td>\n",
       "      <td>1952.03.30-Eggink.pdf</td>\n",
       "      <td>http://sharkattackfile.net/spreadsheets/pdf_di...</td>\n",
       "      <td>http://sharkattackfile.net/spreadsheets/pdf_di...</td>\n",
       "      <td>1952.03.30</td>\n",
       "      <td>1952.03.30</td>\n",
       "      <td>1888.0</td>\n",
       "      <td>NaN</td>\n",
       "      <td>Teramo</td>\n",
       "    </tr>\n",
       "    <tr>\n",
       "      <th>5840</th>\n",
       "      <td>1878.09.14.R</td>\n",
       "      <td>Reported 14-Sep-1878</td>\n",
       "      <td>1878.0</td>\n",
       "      <td>Provoked</td>\n",
       "      <td>USA</td>\n",
       "      <td>Connecticut</td>\n",
       "      <td>Branford, New Haven County</td>\n",
       "      <td>Fishing</td>\n",
       "      <td>Captain Pattison</td>\n",
       "      <td>M</td>\n",
       "      <td>...</td>\n",
       "      <td>NaN</td>\n",
       "      <td>St. Joseph Herald, 9/14/1878</td>\n",
       "      <td>1878.09.14.R-Pattison.pdf</td>\n",
       "      <td>http://sharkattackfile.net/spreadsheets/pdf_di...</td>\n",
       "      <td>http://sharkattackfile.net/spreadsheets/pdf_di...</td>\n",
       "      <td>1878.09.14.R</td>\n",
       "      <td>1878.09.14.R</td>\n",
       "      <td>463.0</td>\n",
       "      <td>NaN</td>\n",
       "      <td>change filename</td>\n",
       "    </tr>\n",
       "  </tbody>\n",
       "</table>\n",
       "<p>2 rows × 24 columns</p>\n",
       "</div>"
      ],
      "text/plain": [
       "       case_number                  date    year        type  \\\n",
       "4415    1952.03.30           30-Mar-1952  1952.0  Unprovoked   \n",
       "5840  1878.09.14.R  Reported 14-Sep-1878  1878.0    Provoked   \n",
       "\n",
       "                   country         area                    location  \\\n",
       "4415  NETHERLANDS ANTILLES      Curacao                         NaN   \n",
       "5840                   USA  Connecticut  Branford, New Haven County   \n",
       "\n",
       "                                             activity              name sex  \\\n",
       "4415  Went to aid of child being menaced by the shark       A.J. Eggink   M   \n",
       "5840                                          Fishing  Captain Pattison   M   \n",
       "\n",
       "      ...                                            species  \\\n",
       "4415  ...  Bull shark, 2.7 m [9'] was captured & dragged ...   \n",
       "5840  ...                                                NaN   \n",
       "\n",
       "                                 investigator_or_source  \\\n",
       "4415  J. Randall, p.352 in Sharks & Survival; H.D. B...   \n",
       "5840                       St. Joseph Herald, 9/14/1878   \n",
       "\n",
       "                            pdf  \\\n",
       "4415      1952.03.30-Eggink.pdf   \n",
       "5840  1878.09.14.R-Pattison.pdf   \n",
       "\n",
       "                                           href_formula  \\\n",
       "4415  http://sharkattackfile.net/spreadsheets/pdf_di...   \n",
       "5840  http://sharkattackfile.net/spreadsheets/pdf_di...   \n",
       "\n",
       "                                                   href case_number_1  \\\n",
       "4415  http://sharkattackfile.net/spreadsheets/pdf_di...    1952.03.30   \n",
       "5840  http://sharkattackfile.net/spreadsheets/pdf_di...  1878.09.14.R   \n",
       "\n",
       "     case_number_2 original_order unnamed:_22      unnamed:_23  \n",
       "4415    1952.03.30         1888.0         NaN           Teramo  \n",
       "5840  1878.09.14.R          463.0         NaN  change filename  \n",
       "\n",
       "[2 rows x 24 columns]"
      ]
     },
     "execution_count": 17,
     "metadata": {},
     "output_type": "execute_result"
    }
   ],
   "source": [
    "sharks[sharks[\"unnamed:_23\"].notna()].head(2)"
   ]
  },
  {
   "cell_type": "markdown",
   "id": "83564fcb",
   "metadata": {},
   "source": [
    "No hay ningún dato valioso en esas columnas por lo que se van a eliminar"
   ]
  },
  {
   "cell_type": "code",
   "execution_count": 18,
   "id": "4b7e8ee5",
   "metadata": {},
   "outputs": [],
   "source": [
    "sharks.drop(columns = [\"unnamed:_22\", \"unnamed:_23\"],axis=1,inplace= True)"
   ]
  },
  {
   "cell_type": "markdown",
   "id": "e2677b23",
   "metadata": {},
   "source": [
    "Ahora se va a estudiar la diferencia entre \"case_number\"case_number_1\" y \"case_number_2\""
   ]
  },
  {
   "cell_type": "code",
   "execution_count": 19,
   "id": "072ad2e9",
   "metadata": {
    "scrolled": false
   },
   "outputs": [
    {
     "data": {
      "text/html": [
       "<div>\n",
       "<style scoped>\n",
       "    .dataframe tbody tr th:only-of-type {\n",
       "        vertical-align: middle;\n",
       "    }\n",
       "\n",
       "    .dataframe tbody tr th {\n",
       "        vertical-align: top;\n",
       "    }\n",
       "\n",
       "    .dataframe thead th {\n",
       "        text-align: right;\n",
       "    }\n",
       "</style>\n",
       "<table border=\"1\" class=\"dataframe\">\n",
       "  <thead>\n",
       "    <tr style=\"text-align: right;\">\n",
       "      <th></th>\n",
       "      <th>case_number</th>\n",
       "      <th>case_number_1</th>\n",
       "      <th>case_number_2</th>\n",
       "    </tr>\n",
       "  </thead>\n",
       "  <tbody>\n",
       "    <tr>\n",
       "      <th>34</th>\n",
       "      <td>2018.04.03</td>\n",
       "      <td>2018.04.02</td>\n",
       "      <td>2018.04.03</td>\n",
       "    </tr>\n",
       "    <tr>\n",
       "      <th>117</th>\n",
       "      <td>2017.07.20.a</td>\n",
       "      <td>2017/07.20.a</td>\n",
       "      <td>2017.07.20.a</td>\n",
       "    </tr>\n",
       "    <tr>\n",
       "      <th>144</th>\n",
       "      <td>2017.05.06</td>\n",
       "      <td>2017.06.06</td>\n",
       "      <td>2017.05.06</td>\n",
       "    </tr>\n",
       "    <tr>\n",
       "      <th>217</th>\n",
       "      <td>2016.09.15</td>\n",
       "      <td>2016.09.16</td>\n",
       "      <td>2016.09.15</td>\n",
       "    </tr>\n",
       "    <tr>\n",
       "      <th>314</th>\n",
       "      <td>2016.01.24.b</td>\n",
       "      <td>2015.01.24.b</td>\n",
       "      <td>2016.01.24.b</td>\n",
       "    </tr>\n",
       "    <tr>\n",
       "      <th>334</th>\n",
       "      <td>2015.12.23</td>\n",
       "      <td>2015.11.07</td>\n",
       "      <td>2015.12.23</td>\n",
       "    </tr>\n",
       "    <tr>\n",
       "      <th>339</th>\n",
       "      <td>2015.10.28.a</td>\n",
       "      <td>2015.10.28</td>\n",
       "      <td>2015.10.28.a</td>\n",
       "    </tr>\n",
       "    <tr>\n",
       "      <th>560</th>\n",
       "      <td>2014.05.04</td>\n",
       "      <td>2013.05.04</td>\n",
       "      <td>2014.05.04</td>\n",
       "    </tr>\n",
       "    <tr>\n",
       "      <th>3522</th>\n",
       "      <td>1967.07.05</td>\n",
       "      <td>1967/07.05</td>\n",
       "      <td>1967.07.05</td>\n",
       "    </tr>\n",
       "    <tr>\n",
       "      <th>3795</th>\n",
       "      <td>1962,08.30.b</td>\n",
       "      <td>1962.08.30.b</td>\n",
       "      <td>1962,08.30.b</td>\n",
       "    </tr>\n",
       "    <tr>\n",
       "      <th>3880</th>\n",
       "      <td>1961.09.02.R</td>\n",
       "      <td>1961.09,06.R</td>\n",
       "      <td>1961.09.02.R</td>\n",
       "    </tr>\n",
       "    <tr>\n",
       "      <th>4403</th>\n",
       "      <td>1952.08.05</td>\n",
       "      <td>1952.08.04</td>\n",
       "      <td>1952.08.05</td>\n",
       "    </tr>\n",
       "    <tr>\n",
       "      <th>4425</th>\n",
       "      <td>1851.12.15.R</td>\n",
       "      <td>1951.12.15.R</td>\n",
       "      <td>1851.12.15.R</td>\n",
       "    </tr>\n",
       "    <tr>\n",
       "      <th>5275</th>\n",
       "      <td>1900.00.00.R</td>\n",
       "      <td>1919.00.00.R</td>\n",
       "      <td>1900.00.00.R</td>\n",
       "    </tr>\n",
       "    <tr>\n",
       "      <th>5358</th>\n",
       "      <td>1913.07.10.R</td>\n",
       "      <td>1913.17.10.R</td>\n",
       "      <td>1913.07.10.R</td>\n",
       "    </tr>\n",
       "    <tr>\n",
       "      <th>5386</th>\n",
       "      <td>1911.07.31.R</td>\n",
       "      <td>1911.07.31.T</td>\n",
       "      <td>1911.07.31.R</td>\n",
       "    </tr>\n",
       "    <tr>\n",
       "      <th>5777</th>\n",
       "      <td>1884.04.38.R</td>\n",
       "      <td>1884.04.28.R</td>\n",
       "      <td>1884.04.38.R</td>\n",
       "    </tr>\n",
       "    <tr>\n",
       "      <th>5883</th>\n",
       "      <td>1876.06.18.R</td>\n",
       "      <td>1874.06.18.R</td>\n",
       "      <td>1876.06.18.R</td>\n",
       "    </tr>\n",
       "    <tr>\n",
       "      <th>6009</th>\n",
       "      <td>1853,94.29</td>\n",
       "      <td>1853.04.29</td>\n",
       "      <td>1853,94.29</td>\n",
       "    </tr>\n",
       "    <tr>\n",
       "      <th>6122</th>\n",
       "      <td>1808.06.01.R</td>\n",
       "      <td>1808.05.01.R</td>\n",
       "      <td>1808.06.01.R</td>\n",
       "    </tr>\n",
       "    <tr>\n",
       "      <th>25722</th>\n",
       "      <td>xx</td>\n",
       "      <td>NaN</td>\n",
       "      <td>NaN</td>\n",
       "    </tr>\n",
       "  </tbody>\n",
       "</table>\n",
       "</div>"
      ],
      "text/plain": [
       "        case_number case_number_1 case_number_2\n",
       "34       2018.04.03    2018.04.02    2018.04.03\n",
       "117    2017.07.20.a  2017/07.20.a  2017.07.20.a\n",
       "144      2017.05.06    2017.06.06    2017.05.06\n",
       "217      2016.09.15    2016.09.16    2016.09.15\n",
       "314    2016.01.24.b  2015.01.24.b  2016.01.24.b\n",
       "334      2015.12.23    2015.11.07    2015.12.23\n",
       "339    2015.10.28.a    2015.10.28  2015.10.28.a\n",
       "560      2014.05.04    2013.05.04    2014.05.04\n",
       "3522     1967.07.05    1967/07.05    1967.07.05\n",
       "3795   1962,08.30.b  1962.08.30.b  1962,08.30.b\n",
       "3880   1961.09.02.R  1961.09,06.R  1961.09.02.R\n",
       "4403     1952.08.05    1952.08.04    1952.08.05\n",
       "4425   1851.12.15.R  1951.12.15.R  1851.12.15.R\n",
       "5275   1900.00.00.R  1919.00.00.R  1900.00.00.R\n",
       "5358   1913.07.10.R  1913.17.10.R  1913.07.10.R\n",
       "5386   1911.07.31.R  1911.07.31.T  1911.07.31.R\n",
       "5777   1884.04.38.R  1884.04.28.R  1884.04.38.R\n",
       "5883   1876.06.18.R  1874.06.18.R  1876.06.18.R\n",
       "6009     1853,94.29    1853.04.29    1853,94.29\n",
       "6122   1808.06.01.R  1808.05.01.R  1808.06.01.R\n",
       "25722            xx           NaN           NaN"
      ]
     },
     "execution_count": 19,
     "metadata": {},
     "output_type": "execute_result"
    }
   ],
   "source": [
    "sharks[sharks[\"case_number_1\"]!=sharks[\"case_number_2\"]].head(21)[[\"case_number\",\"case_number_1\",\"case_number_2\"]]"
   ]
  },
  {
   "cell_type": "markdown",
   "id": "21d1c1f0",
   "metadata": {},
   "source": [
    "Viendo la compación de las columnas \"case_number_1\" y\"case_number_2\" con \"case_number\" se ve que la columna \"case_number_1\" contiene la misma información que la de \"case_number_2\" salvo en una pequeña cantidad de casos donde la columna \"case_number\" coincide con \"case_number_2\" por lo que se asume que la columna \"case_number_1\" no aporta nada de valor"
   ]
  },
  {
   "cell_type": "code",
   "execution_count": 20,
   "id": "d69658f5",
   "metadata": {},
   "outputs": [],
   "source": [
    "sharks.drop(columns = [\"case_number_1\"],axis=1,inplace= True)"
   ]
  },
  {
   "cell_type": "code",
   "execution_count": 21,
   "id": "ff0da074",
   "metadata": {
    "scrolled": true
   },
   "outputs": [
    {
     "data": {
      "text/html": [
       "<div>\n",
       "<style scoped>\n",
       "    .dataframe tbody tr th:only-of-type {\n",
       "        vertical-align: middle;\n",
       "    }\n",
       "\n",
       "    .dataframe tbody tr th {\n",
       "        vertical-align: top;\n",
       "    }\n",
       "\n",
       "    .dataframe thead th {\n",
       "        text-align: right;\n",
       "    }\n",
       "</style>\n",
       "<table border=\"1\" class=\"dataframe\">\n",
       "  <thead>\n",
       "    <tr style=\"text-align: right;\">\n",
       "      <th></th>\n",
       "      <th>case_number</th>\n",
       "      <th>case_number_2</th>\n",
       "      <th>date</th>\n",
       "    </tr>\n",
       "  </thead>\n",
       "  <tbody>\n",
       "    <tr>\n",
       "      <th>5488</th>\n",
       "      <td>NaN</td>\n",
       "      <td>1905.09.06.R</td>\n",
       "      <td>Reported 06-Sep-1905</td>\n",
       "    </tr>\n",
       "    <tr>\n",
       "      <th>4949</th>\n",
       "      <td>1934.01.08.R</td>\n",
       "      <td>1934.02.08.R</td>\n",
       "      <td>Reported 08-Feb-1934</td>\n",
       "    </tr>\n",
       "    <tr>\n",
       "      <th>390</th>\n",
       "      <td>2015.07-10</td>\n",
       "      <td>2015.07.10</td>\n",
       "      <td>10-Jul-2015</td>\n",
       "    </tr>\n",
       "    <tr>\n",
       "      <th>5944</th>\n",
       "      <td>1864.05</td>\n",
       "      <td>1864.05.00</td>\n",
       "      <td>May-1864</td>\n",
       "    </tr>\n",
       "    <tr>\n",
       "      <th>25722</th>\n",
       "      <td>xx</td>\n",
       "      <td>NaN</td>\n",
       "      <td>NaN</td>\n",
       "    </tr>\n",
       "  </tbody>\n",
       "</table>\n",
       "</div>"
      ],
      "text/plain": [
       "        case_number case_number_2                  date\n",
       "5488            NaN  1905.09.06.R  Reported 06-Sep-1905\n",
       "4949   1934.01.08.R  1934.02.08.R  Reported 08-Feb-1934\n",
       "390      2015.07-10    2015.07.10           10-Jul-2015\n",
       "5944        1864.05    1864.05.00              May-1864\n",
       "25722            xx           NaN                   NaN"
      ]
     },
     "execution_count": 21,
     "metadata": {},
     "output_type": "execute_result"
    }
   ],
   "source": [
    "sharks[sharks[\"case_number\"]!=sharks[\"case_number_2\"]][[\"case_number\",\"case_number_2\",\"date\"]].sample(5)"
   ]
  },
  {
   "cell_type": "markdown",
   "id": "1a90d137",
   "metadata": {},
   "source": [
    "Se comprueba que las columnas \"case_number\" y \"case_number_2\" son iguales salvo en unos casos donde comprobando con la columna date se ve que es la columna \"case_number\" la que es erronea"
   ]
  },
  {
   "cell_type": "code",
   "execution_count": 22,
   "id": "6030cb30",
   "metadata": {},
   "outputs": [],
   "source": [
    "sharks[\"case_number\"]=sharks[\"case_number_2\"]\n",
    "sharks.drop(columns = [\"case_number_2\"],axis=1,inplace= True)"
   ]
  },
  {
   "cell_type": "code",
   "execution_count": 23,
   "id": "138f5eb3",
   "metadata": {
    "scrolled": true
   },
   "outputs": [
    {
     "data": {
      "text/html": [
       "<div>\n",
       "<style scoped>\n",
       "    .dataframe tbody tr th:only-of-type {\n",
       "        vertical-align: middle;\n",
       "    }\n",
       "\n",
       "    .dataframe tbody tr th {\n",
       "        vertical-align: top;\n",
       "    }\n",
       "\n",
       "    .dataframe thead th {\n",
       "        text-align: right;\n",
       "    }\n",
       "</style>\n",
       "<table border=\"1\" class=\"dataframe\">\n",
       "  <thead>\n",
       "    <tr style=\"text-align: right;\">\n",
       "      <th></th>\n",
       "      <th>case_number</th>\n",
       "      <th>date</th>\n",
       "      <th>year</th>\n",
       "      <th>type</th>\n",
       "      <th>country</th>\n",
       "      <th>area</th>\n",
       "      <th>location</th>\n",
       "      <th>activity</th>\n",
       "      <th>name</th>\n",
       "      <th>sex</th>\n",
       "      <th>age</th>\n",
       "      <th>injury</th>\n",
       "      <th>fatal_(y/n)</th>\n",
       "      <th>time</th>\n",
       "      <th>species</th>\n",
       "      <th>investigator_or_source</th>\n",
       "      <th>pdf</th>\n",
       "      <th>href_formula</th>\n",
       "      <th>href</th>\n",
       "      <th>original_order</th>\n",
       "    </tr>\n",
       "  </thead>\n",
       "  <tbody>\n",
       "    <tr>\n",
       "      <th>3931</th>\n",
       "      <td>1961.01.06.a</td>\n",
       "      <td>06-Jan-1961</td>\n",
       "      <td>1961.0</td>\n",
       "      <td>Provoked</td>\n",
       "      <td>AUSTRALIA</td>\n",
       "      <td>Northern Territory</td>\n",
       "      <td>Stokes Hill Wharf, Darwin</td>\n",
       "      <td>Fishing</td>\n",
       "      <td>Arthur Hopkins</td>\n",
       "      <td>M</td>\n",
       "      <td>NaN</td>\n",
       "      <td>Finger bitten by hooked shark PROVOKED INCIDENT</td>\n",
       "      <td>N</td>\n",
       "      <td>NaN</td>\n",
       "      <td>Hammerhead shark, 1.8 m [6']</td>\n",
       "      <td>Darwin Northern Territory News, 1/10/1961</td>\n",
       "      <td>1961.01.06.a-Hopkins.pdf</td>\n",
       "      <td>http://sharkattackfile.net/spreadsheets/pdf_di...</td>\n",
       "      <td>http://sharkattackfile.net/spreadsheets/pdf_di...</td>\n",
       "      <td>2372.0</td>\n",
       "    </tr>\n",
       "  </tbody>\n",
       "</table>\n",
       "</div>"
      ],
      "text/plain": [
       "       case_number         date    year      type    country  \\\n",
       "3931  1961.01.06.a  06-Jan-1961  1961.0  Provoked  AUSTRALIA   \n",
       "\n",
       "                    area                   location activity            name  \\\n",
       "3931  Northern Territory  Stokes Hill Wharf, Darwin  Fishing  Arthur Hopkins   \n",
       "\n",
       "     sex  age                                           injury fatal_(y/n)  \\\n",
       "3931   M  NaN  Finger bitten by hooked shark PROVOKED INCIDENT           N   \n",
       "\n",
       "     time                        species  \\\n",
       "3931  NaN  Hammerhead shark, 1.8 m [6']    \n",
       "\n",
       "                         investigator_or_source                       pdf  \\\n",
       "3931  Darwin Northern Territory News, 1/10/1961  1961.01.06.a-Hopkins.pdf   \n",
       "\n",
       "                                           href_formula  \\\n",
       "3931  http://sharkattackfile.net/spreadsheets/pdf_di...   \n",
       "\n",
       "                                                   href  original_order  \n",
       "3931  http://sharkattackfile.net/spreadsheets/pdf_di...          2372.0  "
      ]
     },
     "execution_count": 23,
     "metadata": {},
     "output_type": "execute_result"
    }
   ],
   "source": [
    "sharks.sample(1)"
   ]
  },
  {
   "cell_type": "markdown",
   "id": "30189e03",
   "metadata": {},
   "source": [
    "Hasta aquí se han limpiado del DataFrame todas aquellas filas con todos los valores NaN y todas aquellas columnas que no aportan nada de información útil, a continuación se va a exportar el DataFrame modificado a un .csv"
   ]
  },
  {
   "cell_type": "code",
   "execution_count": 24,
   "id": "805c7e63",
   "metadata": {},
   "outputs": [],
   "source": [
    "sharks.to_csv(\"data/sharks_limpio_raw.csv\",index=False)"
   ]
  },
  {
   "cell_type": "code",
   "execution_count": 25,
   "id": "a8c6bb7f",
   "metadata": {},
   "outputs": [],
   "source": [
    "sharks = pd.read_csv(\"data/sharks_limpio_raw.csv\",encoding = \"ISO-8859-1\")"
   ]
  },
  {
   "cell_type": "markdown",
   "id": "ca386552",
   "metadata": {},
   "source": [
    "Se van a eliminar todas aquellas columnas que no se van a usar para sacar conclusiones"
   ]
  },
  {
   "cell_type": "code",
   "execution_count": 26,
   "id": "d65c4118",
   "metadata": {},
   "outputs": [],
   "source": [
    "sharks.drop(columns = [\"investigator_or_source\",\"pdf\",\"href_formula\",\"href\",\"case_number\",\n",
    "                       \"original_order\",\"name\",\"area\",\"location\"],axis=1,inplace= True)"
   ]
  },
  {
   "cell_type": "markdown",
   "id": "0f35e2c4",
   "metadata": {},
   "source": [
    "Ahora se va a hacer una limpieza de cada columna útil, para ello se van a utilizar las funciones del archivo de funciones"
   ]
  },
  {
   "cell_type": "code",
   "execution_count": 27,
   "id": "ecddc5e6",
   "metadata": {},
   "outputs": [],
   "source": [
    "sharks[\"sex\"] = sharks[\"sex\"].apply(limpieza_sex)\n",
    "sharks[\"age\"] = sharks[\"age\"].apply(limpieza_age)\n",
    "sharks[\"year\"] = sharks[\"year\"].apply(limpieza_year)\n",
    "sharks[\"fatal_(y/n)\"] = sharks[\"fatal_(y/n)\"].apply(limpieza_fatal)\n",
    "sharks[\"hour\"] = sharks[\"time\"].apply(limpieza_time)\n",
    "sharks.drop(columns = [\"time\"],axis=1,inplace= True)\n",
    "sharks[\"type\"] = sharks[\"type\"].apply(limpieza_type)\n",
    "sharks[\"months_code\"] = sharks[\"date\"].apply(limpieza_meses)\n",
    "sharks[\"day\"] = sharks[\"date\"].apply(limpieza_dias)\n",
    "sharks.drop(columns = [\"date\"],axis=1,inplace= True)\n",
    "sharks[\"species\"] = sharks[\"species\"].apply(limpieza_species)\n",
    "sharks[\"injury\"] = sharks[\"injury\"].apply(limpieza_injury)\n",
    "sharks[\"country\"] = sharks[\"country\"].apply(limpieza_country)\n",
    "sharks[\"activity\"] = sharks[\"activity\"].apply(limpieza_activity)"
   ]
  },
  {
   "cell_type": "markdown",
   "id": "03378563",
   "metadata": {},
   "source": [
    "Se reordena el DataFrame"
   ]
  },
  {
   "cell_type": "code",
   "execution_count": 28,
   "id": "9d1aa26d",
   "metadata": {
    "scrolled": false
   },
   "outputs": [
    {
     "data": {
      "text/html": [
       "<div>\n",
       "<style scoped>\n",
       "    .dataframe tbody tr th:only-of-type {\n",
       "        vertical-align: middle;\n",
       "    }\n",
       "\n",
       "    .dataframe tbody tr th {\n",
       "        vertical-align: top;\n",
       "    }\n",
       "\n",
       "    .dataframe thead th {\n",
       "        text-align: right;\n",
       "    }\n",
       "</style>\n",
       "<table border=\"1\" class=\"dataframe\">\n",
       "  <thead>\n",
       "    <tr style=\"text-align: right;\">\n",
       "      <th></th>\n",
       "      <th>year</th>\n",
       "      <th>months_code</th>\n",
       "      <th>day</th>\n",
       "      <th>hour</th>\n",
       "      <th>country</th>\n",
       "      <th>sex</th>\n",
       "      <th>age</th>\n",
       "      <th>activity</th>\n",
       "      <th>species</th>\n",
       "      <th>type</th>\n",
       "      <th>injury</th>\n",
       "      <th>fatal_(y/n)</th>\n",
       "    </tr>\n",
       "  </thead>\n",
       "  <tbody>\n",
       "    <tr>\n",
       "      <th>2941</th>\n",
       "      <td>1983.0</td>\n",
       "      <td>5.0</td>\n",
       "      <td>24.0</td>\n",
       "      <td>NaN</td>\n",
       "      <td>United States of America</td>\n",
       "      <td>M</td>\n",
       "      <td>15.0</td>\n",
       "      <td>surf</td>\n",
       "      <td>NaN</td>\n",
       "      <td>Provoked</td>\n",
       "      <td>no injury</td>\n",
       "      <td>NO</td>\n",
       "    </tr>\n",
       "  </tbody>\n",
       "</table>\n",
       "</div>"
      ],
      "text/plain": [
       "        year  months_code   day  hour                   country sex   age  \\\n",
       "2941  1983.0          5.0  24.0   NaN  United States of America   M  15.0   \n",
       "\n",
       "     activity species      type     injury fatal_(y/n)  \n",
       "2941     surf     NaN  Provoked  no injury          NO  "
      ]
     },
     "execution_count": 28,
     "metadata": {},
     "output_type": "execute_result"
    }
   ],
   "source": [
    "sharks = sharks.iloc[:,[0,10,11,9,2,4,5,3,8,1,6,7]]\n",
    "sharks.sample()"
   ]
  },
  {
   "cell_type": "markdown",
   "id": "761c4f8b",
   "metadata": {},
   "source": [
    "Se eliminan las filas duplicadas y vacias"
   ]
  },
  {
   "cell_type": "code",
   "execution_count": 29,
   "id": "2b227cce",
   "metadata": {},
   "outputs": [],
   "source": [
    "sharks.drop_duplicates(inplace=True)\n",
    "sharks.dropna(axis=0, how='all', inplace=True)\n",
    "sharks.dropna(axis=1, how='all', inplace=True)"
   ]
  },
  {
   "cell_type": "code",
   "execution_count": 30,
   "id": "fec66ec7",
   "metadata": {},
   "outputs": [
    {
     "data": {
      "text/plain": [
       "(6263, 12)"
      ]
     },
     "execution_count": 30,
     "metadata": {},
     "output_type": "execute_result"
    }
   ],
   "source": [
    "sharks.shape"
   ]
  },
  {
   "cell_type": "markdown",
   "id": "288bb971",
   "metadata": {},
   "source": [
    "Se exporta el .csv limpio"
   ]
  },
  {
   "cell_type": "code",
   "execution_count": 31,
   "id": "dc3ca293",
   "metadata": {},
   "outputs": [],
   "source": [
    "sharks.to_csv(\"shark_attacks.csv\",index=False)"
   ]
  },
  {
   "cell_type": "code",
   "execution_count": null,
   "id": "2ac29ee5",
   "metadata": {},
   "outputs": [],
   "source": []
  }
 ],
 "metadata": {
  "kernelspec": {
   "display_name": "ironhack",
   "language": "python",
   "name": "ironhack"
  },
  "language_info": {
   "codemirror_mode": {
    "name": "ipython",
    "version": 3
   },
   "file_extension": ".py",
   "mimetype": "text/x-python",
   "name": "python",
   "nbconvert_exporter": "python",
   "pygments_lexer": "ipython3",
   "version": "3.8.5"
  }
 },
 "nbformat": 4,
 "nbformat_minor": 5
}
