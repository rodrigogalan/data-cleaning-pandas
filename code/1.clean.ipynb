{
 "cells": [
  {
   "cell_type": "markdown",
   "id": "da2f170d",
   "metadata": {},
   "source": [
    "Se importan los paquetes necesarios"
   ]
  },
  {
   "cell_type": "code",
   "execution_count": 1,
   "id": "3a85bbc0",
   "metadata": {},
   "outputs": [],
   "source": [
    "import numpy as np\n",
    "import pandas as pd\n",
    "import re"
   ]
  },
  {
   "cell_type": "code",
   "execution_count": 2,
   "id": "333385f9",
   "metadata": {},
   "outputs": [],
   "source": [
    "import sys\n",
    "from src.cleaning_functions import *"
   ]
  },
  {
   "cell_type": "markdown",
   "id": "2671ff3a",
   "metadata": {},
   "source": [
    "Se importan los datos como pandas DataFrame"
   ]
  },
  {
   "cell_type": "code",
   "execution_count": 3,
   "id": "0e2fd1ee",
   "metadata": {
    "scrolled": true
   },
   "outputs": [
    {
     "ename": "FileNotFoundError",
     "evalue": "[Errno 2] No such file or directory: 'data/attacks.csv'",
     "output_type": "error",
     "traceback": [
      "\u001b[0;31m---------------------------------------------------------------------------\u001b[0m",
      "\u001b[0;31mFileNotFoundError\u001b[0m                         Traceback (most recent call last)",
      "\u001b[0;32m/tmp/ipykernel_2801/1818713237.py\u001b[0m in \u001b[0;36m<module>\u001b[0;34m\u001b[0m\n\u001b[0;32m----> 1\u001b[0;31m \u001b[0msharks\u001b[0m \u001b[0;34m=\u001b[0m \u001b[0mpd\u001b[0m\u001b[0;34m.\u001b[0m\u001b[0mread_csv\u001b[0m\u001b[0;34m(\u001b[0m\u001b[0;34m\"data/attacks.csv\"\u001b[0m\u001b[0;34m,\u001b[0m\u001b[0mencoding\u001b[0m \u001b[0;34m=\u001b[0m \u001b[0;34m\"ISO-8859-1\"\u001b[0m\u001b[0;34m)\u001b[0m\u001b[0;34m\u001b[0m\u001b[0;34m\u001b[0m\u001b[0m\n\u001b[0m",
      "\u001b[0;32m~/.local/lib/python3.8/site-packages/pandas/util/_decorators.py\u001b[0m in \u001b[0;36mwrapper\u001b[0;34m(*args, **kwargs)\u001b[0m\n\u001b[1;32m    309\u001b[0m                     \u001b[0mstacklevel\u001b[0m\u001b[0;34m=\u001b[0m\u001b[0mstacklevel\u001b[0m\u001b[0;34m,\u001b[0m\u001b[0;34m\u001b[0m\u001b[0;34m\u001b[0m\u001b[0m\n\u001b[1;32m    310\u001b[0m                 )\n\u001b[0;32m--> 311\u001b[0;31m             \u001b[0;32mreturn\u001b[0m \u001b[0mfunc\u001b[0m\u001b[0;34m(\u001b[0m\u001b[0;34m*\u001b[0m\u001b[0margs\u001b[0m\u001b[0;34m,\u001b[0m \u001b[0;34m**\u001b[0m\u001b[0mkwargs\u001b[0m\u001b[0;34m)\u001b[0m\u001b[0;34m\u001b[0m\u001b[0;34m\u001b[0m\u001b[0m\n\u001b[0m\u001b[1;32m    312\u001b[0m \u001b[0;34m\u001b[0m\u001b[0m\n\u001b[1;32m    313\u001b[0m         \u001b[0;32mreturn\u001b[0m \u001b[0mwrapper\u001b[0m\u001b[0;34m\u001b[0m\u001b[0;34m\u001b[0m\u001b[0m\n",
      "\u001b[0;32m~/.local/lib/python3.8/site-packages/pandas/io/parsers/readers.py\u001b[0m in \u001b[0;36mread_csv\u001b[0;34m(filepath_or_buffer, sep, delimiter, header, names, index_col, usecols, squeeze, prefix, mangle_dupe_cols, dtype, engine, converters, true_values, false_values, skipinitialspace, skiprows, skipfooter, nrows, na_values, keep_default_na, na_filter, verbose, skip_blank_lines, parse_dates, infer_datetime_format, keep_date_col, date_parser, dayfirst, cache_dates, iterator, chunksize, compression, thousands, decimal, lineterminator, quotechar, quoting, doublequote, escapechar, comment, encoding, encoding_errors, dialect, error_bad_lines, warn_bad_lines, on_bad_lines, delim_whitespace, low_memory, memory_map, float_precision, storage_options)\u001b[0m\n\u001b[1;32m    678\u001b[0m     \u001b[0mkwds\u001b[0m\u001b[0;34m.\u001b[0m\u001b[0mupdate\u001b[0m\u001b[0;34m(\u001b[0m\u001b[0mkwds_defaults\u001b[0m\u001b[0;34m)\u001b[0m\u001b[0;34m\u001b[0m\u001b[0;34m\u001b[0m\u001b[0m\n\u001b[1;32m    679\u001b[0m \u001b[0;34m\u001b[0m\u001b[0m\n\u001b[0;32m--> 680\u001b[0;31m     \u001b[0;32mreturn\u001b[0m \u001b[0m_read\u001b[0m\u001b[0;34m(\u001b[0m\u001b[0mfilepath_or_buffer\u001b[0m\u001b[0;34m,\u001b[0m \u001b[0mkwds\u001b[0m\u001b[0;34m)\u001b[0m\u001b[0;34m\u001b[0m\u001b[0;34m\u001b[0m\u001b[0m\n\u001b[0m\u001b[1;32m    681\u001b[0m \u001b[0;34m\u001b[0m\u001b[0m\n\u001b[1;32m    682\u001b[0m \u001b[0;34m\u001b[0m\u001b[0m\n",
      "\u001b[0;32m~/.local/lib/python3.8/site-packages/pandas/io/parsers/readers.py\u001b[0m in \u001b[0;36m_read\u001b[0;34m(filepath_or_buffer, kwds)\u001b[0m\n\u001b[1;32m    573\u001b[0m \u001b[0;34m\u001b[0m\u001b[0m\n\u001b[1;32m    574\u001b[0m     \u001b[0;31m# Create the parser.\u001b[0m\u001b[0;34m\u001b[0m\u001b[0;34m\u001b[0m\u001b[0;34m\u001b[0m\u001b[0m\n\u001b[0;32m--> 575\u001b[0;31m     \u001b[0mparser\u001b[0m \u001b[0;34m=\u001b[0m \u001b[0mTextFileReader\u001b[0m\u001b[0;34m(\u001b[0m\u001b[0mfilepath_or_buffer\u001b[0m\u001b[0;34m,\u001b[0m \u001b[0;34m**\u001b[0m\u001b[0mkwds\u001b[0m\u001b[0;34m)\u001b[0m\u001b[0;34m\u001b[0m\u001b[0;34m\u001b[0m\u001b[0m\n\u001b[0m\u001b[1;32m    576\u001b[0m \u001b[0;34m\u001b[0m\u001b[0m\n\u001b[1;32m    577\u001b[0m     \u001b[0;32mif\u001b[0m \u001b[0mchunksize\u001b[0m \u001b[0;32mor\u001b[0m \u001b[0miterator\u001b[0m\u001b[0;34m:\u001b[0m\u001b[0;34m\u001b[0m\u001b[0;34m\u001b[0m\u001b[0m\n",
      "\u001b[0;32m~/.local/lib/python3.8/site-packages/pandas/io/parsers/readers.py\u001b[0m in \u001b[0;36m__init__\u001b[0;34m(self, f, engine, **kwds)\u001b[0m\n\u001b[1;32m    931\u001b[0m \u001b[0;34m\u001b[0m\u001b[0m\n\u001b[1;32m    932\u001b[0m         \u001b[0mself\u001b[0m\u001b[0;34m.\u001b[0m\u001b[0mhandles\u001b[0m\u001b[0;34m:\u001b[0m \u001b[0mIOHandles\u001b[0m \u001b[0;34m|\u001b[0m \u001b[0;32mNone\u001b[0m \u001b[0;34m=\u001b[0m \u001b[0;32mNone\u001b[0m\u001b[0;34m\u001b[0m\u001b[0;34m\u001b[0m\u001b[0m\n\u001b[0;32m--> 933\u001b[0;31m         \u001b[0mself\u001b[0m\u001b[0;34m.\u001b[0m\u001b[0m_engine\u001b[0m \u001b[0;34m=\u001b[0m \u001b[0mself\u001b[0m\u001b[0;34m.\u001b[0m\u001b[0m_make_engine\u001b[0m\u001b[0;34m(\u001b[0m\u001b[0mf\u001b[0m\u001b[0;34m,\u001b[0m \u001b[0mself\u001b[0m\u001b[0;34m.\u001b[0m\u001b[0mengine\u001b[0m\u001b[0;34m)\u001b[0m\u001b[0;34m\u001b[0m\u001b[0;34m\u001b[0m\u001b[0m\n\u001b[0m\u001b[1;32m    934\u001b[0m \u001b[0;34m\u001b[0m\u001b[0m\n\u001b[1;32m    935\u001b[0m     \u001b[0;32mdef\u001b[0m \u001b[0mclose\u001b[0m\u001b[0;34m(\u001b[0m\u001b[0mself\u001b[0m\u001b[0;34m)\u001b[0m\u001b[0;34m:\u001b[0m\u001b[0;34m\u001b[0m\u001b[0;34m\u001b[0m\u001b[0m\n",
      "\u001b[0;32m~/.local/lib/python3.8/site-packages/pandas/io/parsers/readers.py\u001b[0m in \u001b[0;36m_make_engine\u001b[0;34m(self, f, engine)\u001b[0m\n\u001b[1;32m   1215\u001b[0m             \u001b[0;31m# \"Union[str, PathLike[str], ReadCsvBuffer[bytes], ReadCsvBuffer[str]]\"\u001b[0m\u001b[0;34m\u001b[0m\u001b[0;34m\u001b[0m\u001b[0;34m\u001b[0m\u001b[0m\n\u001b[1;32m   1216\u001b[0m             \u001b[0;31m# , \"str\", \"bool\", \"Any\", \"Any\", \"Any\", \"Any\", \"Any\"\u001b[0m\u001b[0;34m\u001b[0m\u001b[0;34m\u001b[0m\u001b[0;34m\u001b[0m\u001b[0m\n\u001b[0;32m-> 1217\u001b[0;31m             self.handles = get_handle(  # type: ignore[call-overload]\n\u001b[0m\u001b[1;32m   1218\u001b[0m                 \u001b[0mf\u001b[0m\u001b[0;34m,\u001b[0m\u001b[0;34m\u001b[0m\u001b[0;34m\u001b[0m\u001b[0m\n\u001b[1;32m   1219\u001b[0m                 \u001b[0mmode\u001b[0m\u001b[0;34m,\u001b[0m\u001b[0;34m\u001b[0m\u001b[0;34m\u001b[0m\u001b[0m\n",
      "\u001b[0;32m~/.local/lib/python3.8/site-packages/pandas/io/common.py\u001b[0m in \u001b[0;36mget_handle\u001b[0;34m(path_or_buf, mode, encoding, compression, memory_map, is_text, errors, storage_options)\u001b[0m\n\u001b[1;32m    787\u001b[0m         \u001b[0;32mif\u001b[0m \u001b[0mioargs\u001b[0m\u001b[0;34m.\u001b[0m\u001b[0mencoding\u001b[0m \u001b[0;32mand\u001b[0m \u001b[0;34m\"b\"\u001b[0m \u001b[0;32mnot\u001b[0m \u001b[0;32min\u001b[0m \u001b[0mioargs\u001b[0m\u001b[0;34m.\u001b[0m\u001b[0mmode\u001b[0m\u001b[0;34m:\u001b[0m\u001b[0;34m\u001b[0m\u001b[0;34m\u001b[0m\u001b[0m\n\u001b[1;32m    788\u001b[0m             \u001b[0;31m# Encoding\u001b[0m\u001b[0;34m\u001b[0m\u001b[0;34m\u001b[0m\u001b[0;34m\u001b[0m\u001b[0m\n\u001b[0;32m--> 789\u001b[0;31m             handle = open(\n\u001b[0m\u001b[1;32m    790\u001b[0m                 \u001b[0mhandle\u001b[0m\u001b[0;34m,\u001b[0m\u001b[0;34m\u001b[0m\u001b[0;34m\u001b[0m\u001b[0m\n\u001b[1;32m    791\u001b[0m                 \u001b[0mioargs\u001b[0m\u001b[0;34m.\u001b[0m\u001b[0mmode\u001b[0m\u001b[0;34m,\u001b[0m\u001b[0;34m\u001b[0m\u001b[0;34m\u001b[0m\u001b[0m\n",
      "\u001b[0;31mFileNotFoundError\u001b[0m: [Errno 2] No such file or directory: 'data/attacks.csv'"
     ]
    }
   ],
   "source": [
    "sharks = pd.read_csv(\"data/attacks.csv\",encoding = \"ISO-8859-1\")"
   ]
  },
  {
   "cell_type": "markdown",
   "id": "cbe64e6c",
   "metadata": {},
   "source": [
    "Se exploran los datos"
   ]
  },
  {
   "cell_type": "code",
   "execution_count": null,
   "id": "bc38f4b4",
   "metadata": {},
   "outputs": [],
   "source": [
    "sharks.shape"
   ]
  },
  {
   "cell_type": "code",
   "execution_count": null,
   "id": "51f18590",
   "metadata": {},
   "outputs": [],
   "source": [
    "sharks.sample()"
   ]
  },
  {
   "cell_type": "code",
   "execution_count": null,
   "id": "73758a5f",
   "metadata": {},
   "outputs": [],
   "source": [
    "sharks.isna().sum()"
   ]
  },
  {
   "cell_type": "markdown",
   "id": "10a69333",
   "metadata": {},
   "source": [
    "Se comprueba que es un DataFrame muy sucio con una gran cantidad de nulos"
   ]
  },
  {
   "cell_type": "markdown",
   "id": "5cde3f87",
   "metadata": {},
   "source": [
    "Se cambia el nombre de todas las columnas del DataFrame para simplificar"
   ]
  },
  {
   "cell_type": "code",
   "execution_count": null,
   "id": "dd7773db",
   "metadata": {},
   "outputs": [],
   "source": [
    "nuevas_columna = {columna:(columna.replace(\" \", \"_\").replace(\".\", \"_\").lower() if columna[-1]!=\" \"\n",
    "                  else columna.replace(\" \", \"_\").replace(\".\", \"_\").lower()[:-1]) for columna in list(sharks.keys())}\n",
    "sharks.rename(columns=nuevas_columna, inplace=True)"
   ]
  },
  {
   "cell_type": "code",
   "execution_count": null,
   "id": "3b9f8318",
   "metadata": {
    "scrolled": true
   },
   "outputs": [],
   "source": [
    "sharks.sample()"
   ]
  },
  {
   "cell_type": "markdown",
   "id": "a5ce9adb",
   "metadata": {},
   "source": [
    "Ahora se va a proceder a la limpieza de los datos."
   ]
  },
  {
   "cell_type": "markdown",
   "id": "59c9cfaa",
   "metadata": {},
   "source": [
    "Lo primero es eliminar todas las filas con datos repetidos"
   ]
  },
  {
   "cell_type": "code",
   "execution_count": null,
   "id": "45bc5c57",
   "metadata": {},
   "outputs": [],
   "source": [
    "sharks.drop_duplicates(inplace=True)"
   ]
  },
  {
   "cell_type": "markdown",
   "id": "978f4f7e",
   "metadata": {},
   "source": [
    "A continuación se van a eliminar todas aquellas filas donde todas las celdas sean nulos y todas las columnas donde todos los valores sean nulos"
   ]
  },
  {
   "cell_type": "code",
   "execution_count": null,
   "id": "0019b410",
   "metadata": {},
   "outputs": [],
   "source": [
    "sharks.dropna(axis=0, how='all', inplace=True)\n",
    "sharks.dropna(axis=1, how='all', inplace=True)"
   ]
  },
  {
   "cell_type": "code",
   "execution_count": null,
   "id": "fde01be2",
   "metadata": {
    "scrolled": true
   },
   "outputs": [],
   "source": [
    "sharks.shape"
   ]
  },
  {
   "cell_type": "markdown",
   "id": "08a7a1d0",
   "metadata": {},
   "source": [
    "Con este proceso se han limpiado bastantes filas."
   ]
  },
  {
   "cell_type": "code",
   "execution_count": null,
   "id": "107c29b3",
   "metadata": {
    "scrolled": true
   },
   "outputs": [],
   "source": [
    "sharks[(sharks[\"case_number\"]==\"0\")].isna().sum()"
   ]
  },
  {
   "cell_type": "markdown",
   "id": "b1b2f100",
   "metadata": {},
   "source": [
    "Se comprueba que en aquellas columnas donde \"case_number\" es nulo, todo el resto de columnas salvo \"original__order\" son nulas también, por lo que no aportan información útil y se van a eliminar."
   ]
  },
  {
   "cell_type": "code",
   "execution_count": null,
   "id": "b2e4f93c",
   "metadata": {
    "scrolled": true
   },
   "outputs": [],
   "source": [
    "sharks.drop(sharks[(sharks[\"case_number\"]==\"0\")].index,inplace= True)"
   ]
  },
  {
   "cell_type": "markdown",
   "id": "c1282e08",
   "metadata": {},
   "source": [
    "Viendo la información del DF se ve que en las columnas \"unnamed:_22\" y \"unnamed:_23\" casi todos los valores son NaN. Se va a verificar cuales son aquellos valores no nulos y posteriormente eliminar las columnas completas"
   ]
  },
  {
   "cell_type": "code",
   "execution_count": null,
   "id": "96e08a72",
   "metadata": {},
   "outputs": [],
   "source": [
    "sharks[sharks[\"unnamed:_22\"].notna()].shape"
   ]
  },
  {
   "cell_type": "code",
   "execution_count": null,
   "id": "e1443f48",
   "metadata": {},
   "outputs": [],
   "source": [
    "sharks[sharks[\"unnamed:_22\"].notna()].head()"
   ]
  },
  {
   "cell_type": "code",
   "execution_count": null,
   "id": "4b48de47",
   "metadata": {},
   "outputs": [],
   "source": [
    "sharks[sharks[\"unnamed:_23\"].notna()].shape"
   ]
  },
  {
   "cell_type": "code",
   "execution_count": null,
   "id": "aa60116f",
   "metadata": {},
   "outputs": [],
   "source": [
    "sharks[sharks[\"unnamed:_23\"].notna()].head(2)"
   ]
  },
  {
   "cell_type": "markdown",
   "id": "83564fcb",
   "metadata": {},
   "source": [
    "No hay ningún dato valioso en esas columnas por lo que se van a eliminar"
   ]
  },
  {
   "cell_type": "code",
   "execution_count": null,
   "id": "4b7e8ee5",
   "metadata": {},
   "outputs": [],
   "source": [
    "sharks.drop(columns = [\"unnamed:_22\", \"unnamed:_23\"],axis=1,inplace= True)"
   ]
  },
  {
   "cell_type": "markdown",
   "id": "e2677b23",
   "metadata": {},
   "source": [
    "Ahora se va a estudiar la diferencia entre \"case_number\"case_number_1\" y \"case_number_2\""
   ]
  },
  {
   "cell_type": "code",
   "execution_count": null,
   "id": "072ad2e9",
   "metadata": {
    "scrolled": false
   },
   "outputs": [],
   "source": [
    "sharks[sharks[\"case_number_1\"]!=sharks[\"case_number_2\"]].head(21)[[\"case_number\",\"case_number_1\",\"case_number_2\"]]"
   ]
  },
  {
   "cell_type": "markdown",
   "id": "21d1c1f0",
   "metadata": {},
   "source": [
    "Viendo la compación de las columnas \"case_number_1\" y\"case_number_2\" con \"case_number\" se ve que la columna \"case_number_1\" contiene la misma información que la de \"case_number_2\" salvo en una pequeña cantidad de casos donde la columna \"case_number\" coincide con \"case_number_2\" por lo que se asume que la columna \"case_number_1\" no aporta nada de valor"
   ]
  },
  {
   "cell_type": "code",
   "execution_count": null,
   "id": "d69658f5",
   "metadata": {},
   "outputs": [],
   "source": [
    "sharks.drop(columns = [\"case_number_1\"],axis=1,inplace= True)"
   ]
  },
  {
   "cell_type": "code",
   "execution_count": null,
   "id": "ff0da074",
   "metadata": {
    "scrolled": true
   },
   "outputs": [],
   "source": [
    "sharks[sharks[\"case_number\"]!=sharks[\"case_number_2\"]][[\"case_number\",\"case_number_2\",\"date\"]].sample(5)"
   ]
  },
  {
   "cell_type": "markdown",
   "id": "1a90d137",
   "metadata": {},
   "source": [
    "Se comprueba que las columnas \"case_number\" y \"case_number_2\" son iguales salvo en unos casos donde comprobando con la columna date se ve que es la columna \"case_number\" la que es erronea"
   ]
  },
  {
   "cell_type": "code",
   "execution_count": null,
   "id": "6030cb30",
   "metadata": {},
   "outputs": [],
   "source": [
    "sharks[\"case_number\"]=sharks[\"case_number_2\"]\n",
    "sharks.drop(columns = [\"case_number_2\"],axis=1,inplace= True)"
   ]
  },
  {
   "cell_type": "code",
   "execution_count": null,
   "id": "138f5eb3",
   "metadata": {
    "scrolled": true
   },
   "outputs": [],
   "source": [
    "sharks.sample(1)"
   ]
  },
  {
   "cell_type": "markdown",
   "id": "30189e03",
   "metadata": {},
   "source": [
    "Hasta aquí se han limpiado del DataFrame todas aquellas filas con todos los valores NaN y todas aquellas columnas que no aportan nada de información útil, a continuación se va a exportar el DataFrame modificado a un .csv"
   ]
  },
  {
   "cell_type": "code",
   "execution_count": null,
   "id": "805c7e63",
   "metadata": {},
   "outputs": [],
   "source": [
    "sharks.to_csv(\"data/sharks_limpio_raw.csv\",index=False)"
   ]
  },
  {
   "cell_type": "code",
   "execution_count": null,
   "id": "a8c6bb7f",
   "metadata": {},
   "outputs": [],
   "source": [
    "sharks = pd.read_csv(\"data/sharks_limpio_raw.csv\",encoding = \"ISO-8859-1\")"
   ]
  },
  {
   "cell_type": "markdown",
   "id": "ca386552",
   "metadata": {},
   "source": [
    "Se van a eliminar todas aquellas columnas que no se van a usar para sacar conclusiones"
   ]
  },
  {
   "cell_type": "code",
   "execution_count": null,
   "id": "d65c4118",
   "metadata": {},
   "outputs": [],
   "source": [
    "sharks.drop(columns = [\"investigator_or_source\",\"pdf\",\"href_formula\",\"href\",\"case_number\",\n",
    "                       \"original_order\",\"name\",\"area\",\"location\"],axis=1,inplace= True)"
   ]
  },
  {
   "cell_type": "markdown",
   "id": "0f35e2c4",
   "metadata": {},
   "source": [
    "Ahora se va a hacer una limpieza de cada columna útil, para ello se van a utilizar las funciones del archivo de funciones"
   ]
  },
  {
   "cell_type": "code",
   "execution_count": null,
   "id": "ecddc5e6",
   "metadata": {},
   "outputs": [],
   "source": [
    "sharks[\"sex\"] = sharks[\"sex\"].apply(limpieza_sex)\n",
    "sharks[\"age\"] = sharks[\"age\"].apply(limpieza_age)\n",
    "sharks[\"year\"] = sharks[\"year\"].apply(limpieza_year)\n",
    "sharks[\"fatal_(y/n)\"] = sharks[\"fatal_(y/n)\"].apply(limpieza_fatal)\n",
    "sharks[\"hour\"] = sharks[\"time\"].apply(limpieza_time)\n",
    "sharks.drop(columns = [\"time\"],axis=1,inplace= True)\n",
    "sharks[\"type\"] = sharks[\"type\"].apply(limpieza_type)\n",
    "sharks[\"months_code\"] = sharks[\"date\"].apply(limpieza_meses)\n",
    "sharks[\"day\"] = sharks[\"date\"].apply(limpieza_dias)\n",
    "sharks.drop(columns = [\"date\"],axis=1,inplace= True)\n",
    "sharks[\"species\"] = sharks[\"species\"].apply(limpieza_species)\n",
    "sharks[\"injury\"] = sharks[\"injury\"].apply(limpieza_injury)\n",
    "sharks[\"country\"] = sharks[\"country\"].apply(limpieza_country)\n",
    "sharks[\"activity\"] = sharks[\"activity\"].apply(limpieza_activity)"
   ]
  },
  {
   "cell_type": "markdown",
   "id": "03378563",
   "metadata": {},
   "source": [
    "Se reordena el DataFrame"
   ]
  },
  {
   "cell_type": "code",
   "execution_count": null,
   "id": "9d1aa26d",
   "metadata": {
    "scrolled": false
   },
   "outputs": [],
   "source": [
    "sharks = sharks.iloc[:,[0,10,11,9,2,4,5,3,8,1,6,7]]\n",
    "sharks.sample()"
   ]
  },
  {
   "cell_type": "markdown",
   "id": "761c4f8b",
   "metadata": {},
   "source": [
    "Se eliminan las filas duplicadas y vacias"
   ]
  },
  {
   "cell_type": "code",
   "execution_count": null,
   "id": "2b227cce",
   "metadata": {},
   "outputs": [],
   "source": [
    "sharks.drop_duplicates(inplace=True)\n",
    "sharks.dropna(axis=0, how='all', inplace=True)\n",
    "sharks.dropna(axis=1, how='all', inplace=True)"
   ]
  },
  {
   "cell_type": "code",
   "execution_count": null,
   "id": "fec66ec7",
   "metadata": {},
   "outputs": [],
   "source": [
    "sharks.shape"
   ]
  },
  {
   "cell_type": "markdown",
   "id": "288bb971",
   "metadata": {},
   "source": [
    "Se exporta el .csv limpio"
   ]
  },
  {
   "cell_type": "code",
   "execution_count": null,
   "id": "dc3ca293",
   "metadata": {},
   "outputs": [],
   "source": [
    "sharks.to_csv(\"shark_attacks.csv\",index=False)"
   ]
  },
  {
   "cell_type": "code",
   "execution_count": null,
   "id": "2ac29ee5",
   "metadata": {},
   "outputs": [],
   "source": []
  }
 ],
 "metadata": {
  "kernelspec": {
   "display_name": "ironhack",
   "language": "python",
   "name": "ironhack"
  },
  "language_info": {
   "codemirror_mode": {
    "name": "ipython",
    "version": 3
   },
   "file_extension": ".py",
   "mimetype": "text/x-python",
   "name": "python",
   "nbconvert_exporter": "python",
   "pygments_lexer": "ipython3",
   "version": "3.8.10"
  }
 },
 "nbformat": 4,
 "nbformat_minor": 5
}
